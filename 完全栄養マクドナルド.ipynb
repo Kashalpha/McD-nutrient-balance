{
  "nbformat": 4,
  "nbformat_minor": 5,
  "metadata": {
    "kernelspec": {
      "display_name": "Python 3",
      "language": "python",
      "name": "python3"
    },
    "language_info": {
      "codemirror_mode": {
        "name": "ipython",
        "version": 3
      },
      "file_extension": ".py",
      "mimetype": "text/x-python",
      "name": "python",
      "nbconvert_exporter": "python",
      "pygments_lexer": "ipython3",
      "version": "3.7.9"
    },
    "colab": {
      "name": "完全栄養マクドナルド.ipynb",
      "provenance": [],
      "include_colab_link": true
    }
  },
  "cells": [
    {
      "cell_type": "markdown",
      "metadata": {
        "id": "view-in-github",
        "colab_type": "text"
      },
      "source": [
        "<a href=\"https://colab.research.google.com/github/Kashalpha/McD-nutrient-balance/blob/main/%E5%AE%8C%E5%85%A8%E6%A0%84%E9%A4%8A%E3%83%9E%E3%82%AF%E3%83%89%E3%83%8A%E3%83%AB%E3%83%89.ipynb\" target=\"_parent\"><img src=\"https://colab.research.google.com/assets/colab-badge.svg\" alt=\"Open In Colab\"/></a>"
      ]
    },
    {
      "cell_type": "code",
      "metadata": {
        "colab": {
          "base_uri": "https://localhost:8080/"
        },
        "id": "A2vGiScHbQ3G",
        "outputId": "24cb0e73-99b3-4cf3-8711-c72e662cb2ea"
      },
      "source": [
        "!pip install pulp"
      ],
      "id": "A2vGiScHbQ3G",
      "execution_count": 2,
      "outputs": [
        {
          "output_type": "stream",
          "text": [
            "Collecting pulp\n",
            "\u001b[?25l  Downloading https://files.pythonhosted.org/packages/14/c4/0eec14a0123209c261de6ff154ef3be5cad3fd557c084f468356662e0585/PuLP-2.4-py3-none-any.whl (40.6MB)\n",
            "\u001b[K     |████████████████████████████████| 40.6MB 93kB/s \n",
            "\u001b[?25hCollecting amply>=0.1.2\n",
            "  Downloading https://files.pythonhosted.org/packages/f3/c5/dfa09dd2595a2ab2ab4e6fa7bebef9565812722e1980d04b0edce5032066/amply-0.1.4-py3-none-any.whl\n",
            "Requirement already satisfied: docutils>=0.3 in /usr/local/lib/python3.7/dist-packages (from amply>=0.1.2->pulp) (0.16)\n",
            "Requirement already satisfied: pyparsing in /usr/local/lib/python3.7/dist-packages (from amply>=0.1.2->pulp) (2.4.7)\n",
            "Installing collected packages: amply, pulp\n",
            "Successfully installed amply-0.1.4 pulp-2.4\n"
          ],
          "name": "stdout"
        }
      ]
    },
    {
      "cell_type": "code",
      "metadata": {
        "id": "boring-pharmaceutical"
      },
      "source": [
        "import pandas as pd\n",
        "import numpy as np\n",
        "import pulp"
      ],
      "id": "boring-pharmaceutical",
      "execution_count": 1,
      "outputs": []
    },
    {
      "cell_type": "code",
      "metadata": {
        "id": "english-platinum"
      },
      "source": [
        "df = pd.read_csv(\"マクドナルド栄養価.csv\",index_col=0)"
      ],
      "id": "english-platinum",
      "execution_count": 2,
      "outputs": []
    },
    {
      "cell_type": "code",
      "metadata": {
        "id": "XAWDJMxp5AhX"
      },
      "source": [
        "# 欠損値を0埋め\r\n",
        "df = df.fillna(0)"
      ],
      "id": "XAWDJMxp5AhX",
      "execution_count": 3,
      "outputs": []
    },
    {
      "cell_type": "code",
      "metadata": {
        "id": "bwpLmiuw40-2"
      },
      "source": [
        "# カロリーが0の商品を除く\r\n",
        "df = df[df['エネルギー']>0]"
      ],
      "id": "bwpLmiuw40-2",
      "execution_count": 4,
      "outputs": []
    },
    {
      "cell_type": "code",
      "metadata": {
        "colab": {
          "base_uri": "https://localhost:8080/",
          "height": 334
        },
        "id": "positive-performance",
        "outputId": "378c412d-e4a1-4596-c785-f7927c6663a8"
      },
      "source": [
        "# 統計情報の確認\r\n",
        "df.describe()"
      ],
      "id": "positive-performance",
      "execution_count": 5,
      "outputs": [
        {
          "output_type": "execute_result",
          "data": {
            "text/html": [
              "<div>\n",
              "<style scoped>\n",
              "    .dataframe tbody tr th:only-of-type {\n",
              "        vertical-align: middle;\n",
              "    }\n",
              "\n",
              "    .dataframe tbody tr th {\n",
              "        vertical-align: top;\n",
              "    }\n",
              "\n",
              "    .dataframe thead th {\n",
              "        text-align: right;\n",
              "    }\n",
              "</style>\n",
              "<table border=\"1\" class=\"dataframe\">\n",
              "  <thead>\n",
              "    <tr style=\"text-align: right;\">\n",
              "      <th></th>\n",
              "      <th>製品重量</th>\n",
              "      <th>エネルギー</th>\n",
              "      <th>タンパク質</th>\n",
              "      <th>脂質</th>\n",
              "      <th>炭水化物</th>\n",
              "      <th>ナトリウム</th>\n",
              "      <th>カリウム</th>\n",
              "      <th>カルシウム</th>\n",
              "      <th>リン</th>\n",
              "      <th>鉄</th>\n",
              "      <th>ビタミンA</th>\n",
              "      <th>ビタミンB1</th>\n",
              "      <th>ビタミンB2</th>\n",
              "      <th>ナイアシン</th>\n",
              "      <th>ビタミンC</th>\n",
              "      <th>コレステロール</th>\n",
              "      <th>食物繊維</th>\n",
              "      <th>食塩相当量</th>\n",
              "    </tr>\n",
              "  </thead>\n",
              "  <tbody>\n",
              "    <tr>\n",
              "      <th>count</th>\n",
              "      <td>171.000000</td>\n",
              "      <td>171.000000</td>\n",
              "      <td>171.000000</td>\n",
              "      <td>171.000000</td>\n",
              "      <td>171.000000</td>\n",
              "      <td>171.000000</td>\n",
              "      <td>171.000000</td>\n",
              "      <td>171.000000</td>\n",
              "      <td>171.000000</td>\n",
              "      <td>171.000000</td>\n",
              "      <td>171.000000</td>\n",
              "      <td>171.000000</td>\n",
              "      <td>171.000000</td>\n",
              "      <td>171.000000</td>\n",
              "      <td>171.000000</td>\n",
              "      <td>171.000000</td>\n",
              "      <td>171.000000</td>\n",
              "      <td>171.000000</td>\n",
              "    </tr>\n",
              "    <tr>\n",
              "      <th>mean</th>\n",
              "      <td>223.461988</td>\n",
              "      <td>286.888889</td>\n",
              "      <td>10.525731</td>\n",
              "      <td>13.728070</td>\n",
              "      <td>30.301170</td>\n",
              "      <td>479.725146</td>\n",
              "      <td>280.719298</td>\n",
              "      <td>72.894737</td>\n",
              "      <td>163.339181</td>\n",
              "      <td>0.828655</td>\n",
              "      <td>48.421053</td>\n",
              "      <td>0.168363</td>\n",
              "      <td>0.185205</td>\n",
              "      <td>2.730994</td>\n",
              "      <td>6.538012</td>\n",
              "      <td>48.157895</td>\n",
              "      <td>1.328655</td>\n",
              "      <td>1.216374</td>\n",
              "    </tr>\n",
              "    <tr>\n",
              "      <th>std</th>\n",
              "      <td>141.917261</td>\n",
              "      <td>263.421457</td>\n",
              "      <td>12.347919</td>\n",
              "      <td>16.264256</td>\n",
              "      <td>23.833706</td>\n",
              "      <td>538.202728</td>\n",
              "      <td>360.656041</td>\n",
              "      <td>77.234026</td>\n",
              "      <td>178.778705</td>\n",
              "      <td>1.078369</td>\n",
              "      <td>114.143297</td>\n",
              "      <td>0.419882</td>\n",
              "      <td>0.338355</td>\n",
              "      <td>4.344209</td>\n",
              "      <td>20.922055</td>\n",
              "      <td>84.416221</td>\n",
              "      <td>1.907647</td>\n",
              "      <td>1.367338</td>\n",
              "    </tr>\n",
              "    <tr>\n",
              "      <th>min</th>\n",
              "      <td>1.000000</td>\n",
              "      <td>1.000000</td>\n",
              "      <td>0.000000</td>\n",
              "      <td>0.000000</td>\n",
              "      <td>0.000000</td>\n",
              "      <td>0.000000</td>\n",
              "      <td>0.000000</td>\n",
              "      <td>0.000000</td>\n",
              "      <td>0.000000</td>\n",
              "      <td>0.000000</td>\n",
              "      <td>0.000000</td>\n",
              "      <td>0.000000</td>\n",
              "      <td>0.000000</td>\n",
              "      <td>0.000000</td>\n",
              "      <td>0.000000</td>\n",
              "      <td>0.000000</td>\n",
              "      <td>0.000000</td>\n",
              "      <td>0.000000</td>\n",
              "    </tr>\n",
              "    <tr>\n",
              "      <th>25%</th>\n",
              "      <td>134.500000</td>\n",
              "      <td>88.000000</td>\n",
              "      <td>0.400000</td>\n",
              "      <td>0.100000</td>\n",
              "      <td>9.650000</td>\n",
              "      <td>15.500000</td>\n",
              "      <td>29.000000</td>\n",
              "      <td>4.500000</td>\n",
              "      <td>8.500000</td>\n",
              "      <td>0.000000</td>\n",
              "      <td>0.000000</td>\n",
              "      <td>0.000000</td>\n",
              "      <td>0.000000</td>\n",
              "      <td>0.100000</td>\n",
              "      <td>0.000000</td>\n",
              "      <td>0.000000</td>\n",
              "      <td>0.000000</td>\n",
              "      <td>0.000000</td>\n",
              "    </tr>\n",
              "    <tr>\n",
              "      <th>50%</th>\n",
              "      <td>197.000000</td>\n",
              "      <td>232.000000</td>\n",
              "      <td>5.200000</td>\n",
              "      <td>6.700000</td>\n",
              "      <td>31.200000</td>\n",
              "      <td>181.000000</td>\n",
              "      <td>232.000000</td>\n",
              "      <td>42.000000</td>\n",
              "      <td>132.000000</td>\n",
              "      <td>0.300000</td>\n",
              "      <td>10.000000</td>\n",
              "      <td>0.080000</td>\n",
              "      <td>0.100000</td>\n",
              "      <td>1.000000</td>\n",
              "      <td>1.000000</td>\n",
              "      <td>5.000000</td>\n",
              "      <td>0.900000</td>\n",
              "      <td>0.500000</td>\n",
              "    </tr>\n",
              "    <tr>\n",
              "      <th>75%</th>\n",
              "      <td>298.500000</td>\n",
              "      <td>437.500000</td>\n",
              "      <td>18.300000</td>\n",
              "      <td>23.100000</td>\n",
              "      <td>41.850000</td>\n",
              "      <td>897.000000</td>\n",
              "      <td>346.000000</td>\n",
              "      <td>134.000000</td>\n",
              "      <td>257.500000</td>\n",
              "      <td>1.300000</td>\n",
              "      <td>61.500000</td>\n",
              "      <td>0.170000</td>\n",
              "      <td>0.245000</td>\n",
              "      <td>4.100000</td>\n",
              "      <td>2.000000</td>\n",
              "      <td>63.500000</td>\n",
              "      <td>1.850000</td>\n",
              "      <td>2.300000</td>\n",
              "    </tr>\n",
              "    <tr>\n",
              "      <th>max</th>\n",
              "      <td>640.000000</td>\n",
              "      <td>1844.000000</td>\n",
              "      <td>60.600000</td>\n",
              "      <td>103.400000</td>\n",
              "      <td>167.700000</td>\n",
              "      <td>2346.000000</td>\n",
              "      <td>3046.000000</td>\n",
              "      <td>394.000000</td>\n",
              "      <td>1255.000000</td>\n",
              "      <td>6.200000</td>\n",
              "      <td>1049.000000</td>\n",
              "      <td>2.890000</td>\n",
              "      <td>2.940000</td>\n",
              "      <td>33.900000</td>\n",
              "      <td>172.000000</td>\n",
              "      <td>478.000000</td>\n",
              "      <td>14.600000</td>\n",
              "      <td>6.000000</td>\n",
              "    </tr>\n",
              "  </tbody>\n",
              "</table>\n",
              "</div>"
            ],
            "text/plain": [
              "             製品重量        エネルギー       タンパク質  ...     コレステロール        食物繊維       食塩相当量\n",
              "count  171.000000   171.000000  171.000000  ...  171.000000  171.000000  171.000000\n",
              "mean   223.461988   286.888889   10.525731  ...   48.157895    1.328655    1.216374\n",
              "std    141.917261   263.421457   12.347919  ...   84.416221    1.907647    1.367338\n",
              "min      1.000000     1.000000    0.000000  ...    0.000000    0.000000    0.000000\n",
              "25%    134.500000    88.000000    0.400000  ...    0.000000    0.000000    0.000000\n",
              "50%    197.000000   232.000000    5.200000  ...    5.000000    0.900000    0.500000\n",
              "75%    298.500000   437.500000   18.300000  ...   63.500000    1.850000    2.300000\n",
              "max    640.000000  1844.000000   60.600000  ...  478.000000   14.600000    6.000000\n",
              "\n",
              "[8 rows x 18 columns]"
            ]
          },
          "metadata": {
            "tags": []
          },
          "execution_count": 5
        }
      ]
    },
    {
      "cell_type": "code",
      "metadata": {
        "id": "KK-Tkihc4-g8"
      },
      "source": [
        "# 栄養値の上限・下限の入力\r\n",
        "df_max_min = pd.read_csv(\"1日分の栄養.csv\",index_col=0)"
      ],
      "id": "KK-Tkihc4-g8",
      "execution_count": 6,
      "outputs": []
    },
    {
      "cell_type": "code",
      "metadata": {
        "colab": {
          "base_uri": "https://localhost:8080/",
          "height": 576
        },
        "id": "A7V2gLvw_xGi",
        "outputId": "1e257110-6d0d-467d-d31f-7136abe0a969"
      },
      "source": [
        "df_max_min "
      ],
      "id": "A7V2gLvw_xGi",
      "execution_count": 7,
      "outputs": [
        {
          "output_type": "execute_result",
          "data": {
            "text/html": [
              "<div>\n",
              "<style scoped>\n",
              "    .dataframe tbody tr th:only-of-type {\n",
              "        vertical-align: middle;\n",
              "    }\n",
              "\n",
              "    .dataframe tbody tr th {\n",
              "        vertical-align: top;\n",
              "    }\n",
              "\n",
              "    .dataframe thead th {\n",
              "        text-align: right;\n",
              "    }\n",
              "</style>\n",
              "<table border=\"1\" class=\"dataframe\">\n",
              "  <thead>\n",
              "    <tr style=\"text-align: right;\">\n",
              "      <th></th>\n",
              "      <th>min</th>\n",
              "      <th>max</th>\n",
              "    </tr>\n",
              "    <tr>\n",
              "      <th>栄養名</th>\n",
              "      <th></th>\n",
              "      <th></th>\n",
              "    </tr>\n",
              "  </thead>\n",
              "  <tbody>\n",
              "    <tr>\n",
              "      <th>タンパク質</th>\n",
              "      <td>50.0</td>\n",
              "      <td>NaN</td>\n",
              "    </tr>\n",
              "    <tr>\n",
              "      <th>脂質</th>\n",
              "      <td>NaN</td>\n",
              "      <td>45.0</td>\n",
              "    </tr>\n",
              "    <tr>\n",
              "      <th>炭水化物</th>\n",
              "      <td>NaN</td>\n",
              "      <td>NaN</td>\n",
              "    </tr>\n",
              "    <tr>\n",
              "      <th>ナトリウム</th>\n",
              "      <td>NaN</td>\n",
              "      <td>NaN</td>\n",
              "    </tr>\n",
              "    <tr>\n",
              "      <th>カリウム</th>\n",
              "      <td>2000.0</td>\n",
              "      <td>NaN</td>\n",
              "    </tr>\n",
              "    <tr>\n",
              "      <th>カルシウム</th>\n",
              "      <td>650.0</td>\n",
              "      <td>NaN</td>\n",
              "    </tr>\n",
              "    <tr>\n",
              "      <th>リン</th>\n",
              "      <td>800.0</td>\n",
              "      <td>3000.0</td>\n",
              "    </tr>\n",
              "    <tr>\n",
              "      <th>鉄</th>\n",
              "      <td>10.5</td>\n",
              "      <td>40.0</td>\n",
              "    </tr>\n",
              "    <tr>\n",
              "      <th>ビタミンA</th>\n",
              "      <td>700.0</td>\n",
              "      <td>2700.0</td>\n",
              "    </tr>\n",
              "    <tr>\n",
              "      <th>ビタミンB1</th>\n",
              "      <td>1.1</td>\n",
              "      <td>NaN</td>\n",
              "    </tr>\n",
              "    <tr>\n",
              "      <th>ビタミンB2</th>\n",
              "      <td>1.2</td>\n",
              "      <td>NaN</td>\n",
              "    </tr>\n",
              "    <tr>\n",
              "      <th>ナイアシン</th>\n",
              "      <td>12.0</td>\n",
              "      <td>250.0</td>\n",
              "    </tr>\n",
              "    <tr>\n",
              "      <th>ビタミンC</th>\n",
              "      <td>100.0</td>\n",
              "      <td>NaN</td>\n",
              "    </tr>\n",
              "    <tr>\n",
              "      <th>コレステロール</th>\n",
              "      <td>NaN</td>\n",
              "      <td>NaN</td>\n",
              "    </tr>\n",
              "    <tr>\n",
              "      <th>食物繊維</th>\n",
              "      <td>18.0</td>\n",
              "      <td>NaN</td>\n",
              "    </tr>\n",
              "    <tr>\n",
              "      <th>食塩相当量</th>\n",
              "      <td>NaN</td>\n",
              "      <td>6.5</td>\n",
              "    </tr>\n",
              "  </tbody>\n",
              "</table>\n",
              "</div>"
            ],
            "text/plain": [
              "            min     max\n",
              "栄養名                    \n",
              "タンパク質      50.0     NaN\n",
              "脂質          NaN    45.0\n",
              "炭水化物        NaN     NaN\n",
              "ナトリウム       NaN     NaN\n",
              "カリウム     2000.0     NaN\n",
              "カルシウム     650.0     NaN\n",
              "リン        800.0  3000.0\n",
              "鉄          10.5    40.0\n",
              "ビタミンA     700.0  2700.0\n",
              "ビタミンB1      1.1     NaN\n",
              "ビタミンB2      1.2     NaN\n",
              "ナイアシン      12.0   250.0\n",
              "ビタミンC     100.0     NaN\n",
              "コレステロール     NaN     NaN\n",
              "食物繊維       18.0     NaN\n",
              "食塩相当量       NaN     6.5"
            ]
          },
          "metadata": {
            "tags": []
          },
          "execution_count": 7
        }
      ]
    },
    {
      "cell_type": "markdown",
      "metadata": {
        "id": "0RURQNtf_2Xh"
      },
      "source": [
        "# 低カロリー問題"
      ],
      "id": "0RURQNtf_2Xh"
    },
    {
      "cell_type": "code",
      "metadata": {
        "id": "legendary-yacht"
      },
      "source": [
        "# 変数の設定\r\n",
        "df[\"個数\"] = pulp.LpVariable.dicts('個数',df.index,lowBound=0,upBound=3,cat='Integer').values()"
      ],
      "id": "legendary-yacht",
      "execution_count": 8,
      "outputs": []
    },
    {
      "cell_type": "code",
      "metadata": {
        "id": "artificial-clause"
      },
      "source": [
        "# 最小化問題\r\n",
        "problem = pulp.LpProblem('完全栄養マクドナルド問題',sense=pulp.LpMinimize)"
      ],
      "id": "artificial-clause",
      "execution_count": 9,
      "outputs": []
    },
    {
      "cell_type": "code",
      "metadata": {
        "id": "accurate-shirt"
      },
      "source": [
        "# 目的変数の設定\r\n",
        "problem.setObjective(pulp.lpDot(df[\"エネルギー\"],df[\"個数\"]))"
      ],
      "id": "accurate-shirt",
      "execution_count": 10,
      "outputs": []
    },
    {
      "cell_type": "code",
      "metadata": {
        "id": "gentle-custom"
      },
      "source": [
        "# 拘束条件\n",
        "for nutrition in df_max_min.index:\n",
        "    if not np.isnan(df_max_min.loc[nutrition,\"max\"]):\n",
        "      problem.addConstraint(pulp.lpDot(df[nutrition],df[\"個数\"])<=df_max_min.loc[nutrition,\"max\"])\n",
        "    if not np.isnan(df_max_min.loc[nutrition,\"min\"]):\n",
        "      problem.addConstraint(pulp.lpDot(df[nutrition],df[\"個数\"])>=df_max_min.loc[nutrition,\"min\"])\n",
        "\n",
        "# 重量に条件\n",
        "problem.addConstraint(pulp.lpDot(df[\"製品重量\"],df[\"個数\"])<=2000)"
      ],
      "id": "gentle-custom",
      "execution_count": 11,
      "outputs": []
    },
    {
      "cell_type": "code",
      "metadata": {
        "colab": {
          "base_uri": "https://localhost:8080/"
        },
        "id": "valuable-jason",
        "outputId": "28b578f4-e18a-4f9c-8708-435f94b7d13b"
      },
      "source": [
        "# 問題を解く\r\n",
        "status = problem.solve()\r\n",
        "print(pulp.LpStatus[problem.status])"
      ],
      "id": "valuable-jason",
      "execution_count": 12,
      "outputs": [
        {
          "output_type": "stream",
          "text": [
            "Optimal\n"
          ],
          "name": "stdout"
        }
      ]
    },
    {
      "cell_type": "code",
      "metadata": {
        "colab": {
          "base_uri": "https://localhost:8080/"
        },
        "id": "cloudy-reunion",
        "outputId": "b1eacb83-75b2-435e-c8eb-9ea475383e63"
      },
      "source": [
        "# 答えの表示\n",
        "for v in problem.variables():\n",
        "  if v.varValue != 0:\n",
        "    print(f'{v.name} = {v.varValue}')\n",
        "\n",
        "print(f\"総カロリー:{pulp.value(problem.objective)}kcal\")"
      ],
      "id": "cloudy-reunion",
      "execution_count": 13,
      "outputs": [
        {
          "output_type": "stream",
          "text": [
            "個数_えだまめコーン = 3.0\n",
            "個数_りんご&クリーム = 1.0\n",
            "個数_ケチャップ = 1.0\n",
            "個数_サイドサラダ = 3.0\n",
            "個数_シャカチキ_チェダーチーズ味シーズニング = 1.0\n",
            "個数_シャカチキ_レッドペッパー味シーズニング = 2.0\n",
            "個数_プチパンケーキ = 1.0\n",
            "個数_プレミアムローストコーヒー(S) = 3.0\n",
            "個数_マックグリドル_ベーコンエッグ = 1.0\n",
            "個数_マックシェイク?_チョコレート(M) = 1.0\n",
            "個数_マックシェイク?_チョコレート(S) = 1.0\n",
            "個数_野菜生活100(S) = 1.0\n",
            "総カロリー:1604.0kcal\n"
          ],
          "name": "stdout"
        }
      ]
    },
    {
      "cell_type": "code",
      "metadata": {
        "colab": {
          "base_uri": "https://localhost:8080/"
        },
        "id": "wJ_pG8tXDuvt",
        "outputId": "298baca0-987d-4268-e703-06d68b4beb4c"
      },
      "source": [
        "for nutrition in df_max_min.index:\r\n",
        "  print(nutrition + \":\" + str(round(pulp.lpDot(df[nutrition], df[\"個数\"]).value(),ndigits=1)))"
      ],
      "id": "wJ_pG8tXDuvt",
      "execution_count": 14,
      "outputs": [
        {
          "output_type": "stream",
          "text": [
            "タンパク質:52.1\n",
            "脂質:43.3\n",
            "炭水化物:251.6\n",
            "ナトリウム:2610.0\n",
            "カリウム:2915.0\n",
            "カルシウム:816.0\n",
            "リン:1345.0\n",
            "鉄:10.5\n",
            "ビタミンA:770.0\n",
            "ビタミンB1:1.3\n",
            "ビタミンB2:1.4\n",
            "ナイアシン:12.0\n",
            "ビタミンC:102.0\n",
            "コレステロール:247.0\n",
            "食物繊維:18.4\n",
            "食塩相当量:6.5\n"
          ],
          "name": "stdout"
        }
      ]
    }
  ]
}